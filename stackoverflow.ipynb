{
 "cells": [
  {
   "cell_type": "code",
   "execution_count": 1,
   "id": "285864c4-363a-473a-9ef4-c8edf312e784",
   "metadata": {},
   "outputs": [
    {
     "data": {
      "text/plain": [
       "[name: \"/device:CPU:0\"\n",
       " device_type: \"CPU\"\n",
       " memory_limit: 268435456\n",
       " locality {\n",
       " }\n",
       " incarnation: 5772397301478443872\n",
       " xla_global_id: -1,\n",
       " name: \"/device:GPU:0\"\n",
       " device_type: \"GPU\"\n",
       " memory_limit: 2252026676\n",
       " locality {\n",
       "   bus_id: 1\n",
       "   links {\n",
       "   }\n",
       " }\n",
       " incarnation: 16142209529953838552\n",
       " physical_device_desc: \"device: 0, name: NVIDIA GeForce GTX 1650 Ti, pci bus id: 0000:01:00.0, compute capability: 7.5\"\n",
       " xla_global_id: 416903419]"
      ]
     },
     "execution_count": 1,
     "metadata": {},
     "output_type": "execute_result"
    }
   ],
   "source": [
    "import pandas as pd\n",
    "import numpy as np\n",
    "import matplotlib.pyplot as plt\n",
    "import seaborn as sns\n",
    "import tensorflow as tf\n",
    "import os\n",
    "%matplotlib inline\n",
    "from tensorflow.python.client import device_lib\n",
    "from tensorflow.keras.models import Sequential, load_model, clone_model\n",
    "import tensorflow_hub as hub\n",
    "from tensorflow.keras.optimizers import Adam\n",
    "from tensorflow.keras.losses import BinaryCrossentropy, SparseCategoricalCrossentropy, CategoricalCrossentropy\n",
    "from tensorflow.keras.preprocessing.image import ImageDataGenerator\n",
    "from tensorflow.keras import layers\n",
    "from sklearn.model_selection import train_test_split\n",
    "from sklearn.metrics import ConfusionMatrixDisplay, RocCurveDisplay, classification_report\n",
    "device_lib.list_local_devices()"
   ]
  },
  {
   "cell_type": "code",
   "execution_count": 2,
   "id": "4f39a1d8-f275-4394-883f-6313a4d34326",
   "metadata": {},
   "outputs": [],
   "source": [
    "df = pd.read_csv('https://raw.githubusercontent.com/laxmimerit/All-CSV-ML-Data-Files-Download/master/stackoverflow.csv', index_col=0)"
   ]
  },
  {
   "cell_type": "code",
   "execution_count": 3,
   "id": "9e9b0634-909d-4c4b-8cc6-c84b2749f171",
   "metadata": {},
   "outputs": [
    {
     "data": {
      "text/html": [
       "<div>\n",
       "<style scoped>\n",
       "    .dataframe tbody tr th:only-of-type {\n",
       "        vertical-align: middle;\n",
       "    }\n",
       "\n",
       "    .dataframe tbody tr th {\n",
       "        vertical-align: top;\n",
       "    }\n",
       "\n",
       "    .dataframe thead th {\n",
       "        text-align: right;\n",
       "    }\n",
       "</style>\n",
       "<table border=\"1\" class=\"dataframe\">\n",
       "  <thead>\n",
       "    <tr style=\"text-align: right;\">\n",
       "      <th></th>\n",
       "      <th>Text</th>\n",
       "      <th>Tags</th>\n",
       "    </tr>\n",
       "  </thead>\n",
       "  <tbody>\n",
       "    <tr>\n",
       "      <th>2</th>\n",
       "      <td>aspnet site maps has anyone got experience cre...</td>\n",
       "      <td>['sql', 'asp.net']</td>\n",
       "    </tr>\n",
       "    <tr>\n",
       "      <th>4</th>\n",
       "      <td>adding scripting functionality to net applicat...</td>\n",
       "      <td>['c#', '.net']</td>\n",
       "    </tr>\n",
       "    <tr>\n",
       "      <th>5</th>\n",
       "      <td>should i use nested classes in this case i am ...</td>\n",
       "      <td>['c++']</td>\n",
       "    </tr>\n",
       "    <tr>\n",
       "      <th>6</th>\n",
       "      <td>homegrown consumption of web services i have b...</td>\n",
       "      <td>['.net']</td>\n",
       "    </tr>\n",
       "    <tr>\n",
       "      <th>8</th>\n",
       "      <td>automatically update version number i would li...</td>\n",
       "      <td>['c#']</td>\n",
       "    </tr>\n",
       "  </tbody>\n",
       "</table>\n",
       "</div>"
      ],
      "text/plain": [
       "                                                Text                Tags\n",
       "2  aspnet site maps has anyone got experience cre...  ['sql', 'asp.net']\n",
       "4  adding scripting functionality to net applicat...      ['c#', '.net']\n",
       "5  should i use nested classes in this case i am ...             ['c++']\n",
       "6  homegrown consumption of web services i have b...            ['.net']\n",
       "8  automatically update version number i would li...              ['c#']"
      ]
     },
     "execution_count": 3,
     "metadata": {},
     "output_type": "execute_result"
    }
   ],
   "source": [
    "df.head()"
   ]
  },
  {
   "cell_type": "code",
   "execution_count": 4,
   "id": "2326a02c-b006-4ae3-988c-6b792c47f5f4",
   "metadata": {},
   "outputs": [
    {
     "data": {
      "text/plain": [
       "\"['sql', 'asp.net']\""
      ]
     },
     "execution_count": 4,
     "metadata": {},
     "output_type": "execute_result"
    }
   ],
   "source": [
    "df.Tags.iloc[0]"
   ]
  },
  {
   "cell_type": "code",
   "execution_count": 7,
   "id": "f9937bc4-5d62-4022-87f7-d25bcf508efa",
   "metadata": {},
   "outputs": [
    {
     "name": "stdout",
     "output_type": "stream",
     "text": [
      "<class 'pandas.core.frame.DataFrame'>\n",
      "Int64Index: 48976 entries, 2 to 1263454\n",
      "Data columns (total 2 columns):\n",
      " #   Column  Non-Null Count  Dtype \n",
      "---  ------  --------------  ----- \n",
      " 0   Text    48976 non-null  object\n",
      " 1   Tags    48976 non-null  object\n",
      "dtypes: object(2)\n",
      "memory usage: 1.1+ MB\n"
     ]
    }
   ],
   "source": [
    "df.info()"
   ]
  },
  {
   "cell_type": "code",
   "execution_count": 8,
   "id": "5e3cc3e2-59b9-48ac-b8cc-2d77ed1ddba8",
   "metadata": {},
   "outputs": [
    {
     "data": {
      "text/plain": [
       "Text    0\n",
       "Tags    0\n",
       "dtype: int64"
      ]
     },
     "execution_count": 8,
     "metadata": {},
     "output_type": "execute_result"
    }
   ],
   "source": [
    "df.isnull().sum()"
   ]
  },
  {
   "cell_type": "code",
   "execution_count": 57,
   "id": "7382fafd-ffe8-489c-81f8-4ef3cd593ceb",
   "metadata": {},
   "outputs": [],
   "source": [
    "from sklearn.model_selection import train_test_split"
   ]
  },
  {
   "cell_type": "code",
   "execution_count": 98,
   "id": "991e4357-e6ce-4abe-98c2-16a79a793482",
   "metadata": {},
   "outputs": [],
   "source": [
    "train_df, test_df = train_test_split(df, test_size=42, random_state=42)"
   ]
  },
  {
   "cell_type": "code",
   "execution_count": 99,
   "id": "0376db86-f1e9-4005-982d-9822e898016a",
   "metadata": {},
   "outputs": [
    {
     "data": {
      "text/html": [
       "<div>\n",
       "<style scoped>\n",
       "    .dataframe tbody tr th:only-of-type {\n",
       "        vertical-align: middle;\n",
       "    }\n",
       "\n",
       "    .dataframe tbody tr th {\n",
       "        vertical-align: top;\n",
       "    }\n",
       "\n",
       "    .dataframe thead th {\n",
       "        text-align: right;\n",
       "    }\n",
       "</style>\n",
       "<table border=\"1\" class=\"dataframe\">\n",
       "  <thead>\n",
       "    <tr style=\"text-align: right;\">\n",
       "      <th></th>\n",
       "      <th>Text</th>\n",
       "      <th>Tags</th>\n",
       "    </tr>\n",
       "  </thead>\n",
       "  <tbody>\n",
       "    <tr>\n",
       "      <th>161841</th>\n",
       "      <td>regex to match a css class name i am trying to...</td>\n",
       "      <td>[php, css]</td>\n",
       "    </tr>\n",
       "    <tr>\n",
       "      <th>706075</th>\n",
       "      <td>mach exception in iphone i sometimes get follo...</td>\n",
       "      <td>[iphone, objective-c]</td>\n",
       "    </tr>\n",
       "    <tr>\n",
       "      <th>238501</th>\n",
       "      <td>thread pool handling duplicate tasks i want to...</td>\n",
       "      <td>[java]</td>\n",
       "    </tr>\n",
       "    <tr>\n",
       "      <th>526709</th>\n",
       "      <td>linker errors when trying to install new googl...</td>\n",
       "      <td>[ios]</td>\n",
       "    </tr>\n",
       "    <tr>\n",
       "      <th>657595</th>\n",
       "      <td>not able to connect android wear emulator with...</td>\n",
       "      <td>[android]</td>\n",
       "    </tr>\n",
       "    <tr>\n",
       "      <th>...</th>\n",
       "      <td>...</td>\n",
       "      <td>...</td>\n",
       "    </tr>\n",
       "    <tr>\n",
       "      <th>79414</th>\n",
       "      <td>is there a way to wake a sleeping thread is th...</td>\n",
       "      <td>[c#]</td>\n",
       "    </tr>\n",
       "    <tr>\n",
       "      <th>856796</th>\n",
       "      <td>table cells height calculated differenly in ie...</td>\n",
       "      <td>[css]</td>\n",
       "    </tr>\n",
       "    <tr>\n",
       "      <th>535439</th>\n",
       "      <td>how to conditionally include code only if abov...</td>\n",
       "      <td>[ios, objective-c]</td>\n",
       "    </tr>\n",
       "    <tr>\n",
       "      <th>2830</th>\n",
       "      <td>how would you improve this algorithm c string ...</td>\n",
       "      <td>[c++]</td>\n",
       "    </tr>\n",
       "    <tr>\n",
       "      <th>124249</th>\n",
       "      <td>how to retrieve certificates from a pfx file w...</td>\n",
       "      <td>[c#]</td>\n",
       "    </tr>\n",
       "  </tbody>\n",
       "</table>\n",
       "<p>48934 rows × 2 columns</p>\n",
       "</div>"
      ],
      "text/plain": [
       "                                                     Text  \\\n",
       "161841  regex to match a css class name i am trying to...   \n",
       "706075  mach exception in iphone i sometimes get follo...   \n",
       "238501  thread pool handling duplicate tasks i want to...   \n",
       "526709  linker errors when trying to install new googl...   \n",
       "657595  not able to connect android wear emulator with...   \n",
       "...                                                   ...   \n",
       "79414   is there a way to wake a sleeping thread is th...   \n",
       "856796  table cells height calculated differenly in ie...   \n",
       "535439  how to conditionally include code only if abov...   \n",
       "2830    how would you improve this algorithm c string ...   \n",
       "124249  how to retrieve certificates from a pfx file w...   \n",
       "\n",
       "                         Tags  \n",
       "161841             [php, css]  \n",
       "706075  [iphone, objective-c]  \n",
       "238501                 [java]  \n",
       "526709                  [ios]  \n",
       "657595              [android]  \n",
       "...                       ...  \n",
       "79414                    [c#]  \n",
       "856796                  [css]  \n",
       "535439     [ios, objective-c]  \n",
       "2830                    [c++]  \n",
       "124249                   [c#]  \n",
       "\n",
       "[48934 rows x 2 columns]"
      ]
     },
     "execution_count": 99,
     "metadata": {},
     "output_type": "execute_result"
    }
   ],
   "source": [
    "train_df"
   ]
  },
  {
   "cell_type": "code",
   "execution_count": 109,
   "id": "06ba1df0-240a-4853-8ea9-c8994d8d35eb",
   "metadata": {},
   "outputs": [
    {
     "data": {
      "text/plain": [
       "'mach exception in iphone i sometimes get following exceptionmach exception xx count d code xllx xllxmach skipping registered port it is invalidmach skipping registered port mask does not matchsignal d info p uapvoid pi do not have any idea what these exceptions are about can somebody throw any light on this'"
      ]
     },
     "execution_count": 109,
     "metadata": {},
     "output_type": "execute_result"
    }
   ],
   "source": [
    "train_df.Text.iloc[1]"
   ]
  },
  {
   "cell_type": "code",
   "execution_count": 52,
   "id": "f8142d62-ec0a-4307-8880-496c0fd388bb",
   "metadata": {},
   "outputs": [],
   "source": [
    "df.Tags = df.Tags.apply(lambda x: eval(x))"
   ]
  },
  {
   "cell_type": "code",
   "execution_count": 131,
   "id": "58b779d3-1bb3-4c4d-976f-55164d4daa48",
   "metadata": {},
   "outputs": [],
   "source": [
    "from sklearn.preprocessing import MultiLabelBinarizer"
   ]
  },
  {
   "cell_type": "code",
   "execution_count": 132,
   "id": "df258ce2-a4f8-44aa-8a97-81226c212e7a",
   "metadata": {},
   "outputs": [],
   "source": [
    "lb = MultiLabelBinarizer()"
   ]
  },
  {
   "cell_type": "code",
   "execution_count": 133,
   "id": "3132e24c-9d33-4e3f-9756-97e11795f76b",
   "metadata": {},
   "outputs": [],
   "source": [
    "train_label = lb.fit_transform(train_df.Tags)"
   ]
  },
  {
   "cell_type": "code",
   "execution_count": 137,
   "id": "be8c1360-c092-4ed9-a49a-ce32381a6bee",
   "metadata": {},
   "outputs": [
    {
     "data": {
      "text/plain": [
       "array([0, 0, 0, 0, 0, 0, 1, 0, 0, 0, 0, 0, 0, 0, 0, 1, 0, 0, 0, 0])"
      ]
     },
     "execution_count": 137,
     "metadata": {},
     "output_type": "execute_result"
    }
   ],
   "source": [
    "train_label[0]"
   ]
  },
  {
   "cell_type": "code",
   "execution_count": 138,
   "id": "4e68c97b-d345-4911-933b-e4b2fe488621",
   "metadata": {},
   "outputs": [
    {
     "data": {
      "text/plain": [
       "array([0, 0, 0, 0, 0, 0, 0, 0, 0, 0, 0, 0, 0, 0, 0, 0, 0, 0, 0, 1])"
      ]
     },
     "execution_count": 138,
     "metadata": {},
     "output_type": "execute_result"
    }
   ],
   "source": [
    "test_label[0]"
   ]
  },
  {
   "cell_type": "code",
   "execution_count": 135,
   "id": "8b3af7ba-fdb5-4c03-91fa-9ccbc9072206",
   "metadata": {},
   "outputs": [],
   "source": [
    "test_label = lb.transform(test_df.Tags)"
   ]
  },
  {
   "cell_type": "code",
   "execution_count": 68,
   "id": "db1a4b69-dcee-4cbd-8016-2dc34c6e56f9",
   "metadata": {},
   "outputs": [],
   "source": [
    "import string\n",
    "from re import sub"
   ]
  },
  {
   "cell_type": "code",
   "execution_count": 104,
   "id": "f76466d2-95ff-450e-bedd-985f2a03c6a9",
   "metadata": {},
   "outputs": [],
   "source": [
    "train_df.Text = train_df.Text.apply(lambda x: ''.join([i for i in x if i not in string.punctuation]))"
   ]
  },
  {
   "cell_type": "code",
   "execution_count": 105,
   "id": "286f5e2a-15d6-4705-93b3-b40dd2c292f3",
   "metadata": {},
   "outputs": [],
   "source": [
    "train_df.Text = train_df.Text.apply(lambda x: sub('([0-9])', '', x))\n",
    "train_df.Text = train_df.Text.apply(lambda x: x.lower())\n",
    "\n",
    "test_df.Text = test_df.Text.apply(lambda x: ''.join([i for i in x if i not in string.punctuation]))\n",
    "test_df.Text = test_df.Text.apply(lambda x: sub('([0-9])', '', x))\n",
    "test_df.Text = test_df.Text.apply(lambda x: x.lower())"
   ]
  },
  {
   "cell_type": "code",
   "execution_count": 108,
   "id": "6dee6d35-7ece-4109-8f6e-a7d7b78fd404",
   "metadata": {},
   "outputs": [
    {
     "data": {
      "text/plain": [
       "'mach exception in iphone i sometimes get following exceptionmach exception xx count d code xllx xllxmach skipping registered port it is invalidmach skipping registered port mask does not matchsignal d info p uapvoid pi do not have any idea what these exceptions are about can somebody throw any light on this'"
      ]
     },
     "execution_count": 108,
     "metadata": {},
     "output_type": "execute_result"
    }
   ],
   "source": [
    "train_df.Text.iloc[1]"
   ]
  },
  {
   "cell_type": "code",
   "execution_count": 110,
   "id": "6ad9a1c6-eb56-4c89-a301-43590746dadd",
   "metadata": {},
   "outputs": [],
   "source": [
    "train_text = train_df.Text.to_numpy()\n",
    "test_text = test_df.Text.to_numpy()"
   ]
  },
  {
   "cell_type": "code",
   "execution_count": 111,
   "id": "4698dc29-81c3-4e04-ad1f-0a3949d476c3",
   "metadata": {},
   "outputs": [
    {
     "data": {
      "text/plain": [
       "'regex to match a css class name i am trying to write a regex that matches a valid css class name structure i have this so farpattern azazazazsregex preg match allpattern html matcheshowever a class name can be in the following formats that my regex would not matchpmy classpthisclasthese are just some cases i have looked around to find the rules of how you can name a class in a style block but could not find anything anyone know where the rules for the class naming conventions areare there any more cases that i need to consider what regex would you use to match a class name i have already narrowed it down to a style block using the php dom document class'"
      ]
     },
     "execution_count": 111,
     "metadata": {},
     "output_type": "execute_result"
    }
   ],
   "source": [
    "train_text[0]"
   ]
  },
  {
   "cell_type": "code",
   "execution_count": 112,
   "id": "e966ef35-4c52-426b-b57b-e77f29163484",
   "metadata": {},
   "outputs": [],
   "source": [
    "num = [len(i.split()) for i in train_text]"
   ]
  },
  {
   "cell_type": "code",
   "execution_count": 115,
   "id": "f648753a-31a7-4524-b36c-a398b7ab66b2",
   "metadata": {},
   "outputs": [
    {
     "data": {
      "text/plain": [
       "135.88772632525442"
      ]
     },
     "execution_count": 115,
     "metadata": {},
     "output_type": "execute_result"
    }
   ],
   "source": [
    "np.mean(num)"
   ]
  },
  {
   "cell_type": "code",
   "execution_count": 120,
   "id": "9513f59e-7318-4ec9-af5d-babc99479430",
   "metadata": {},
   "outputs": [
    {
     "data": {
      "text/plain": [
       "6649530"
      ]
     },
     "execution_count": 120,
     "metadata": {},
     "output_type": "execute_result"
    }
   ],
   "source": [
    "np.sum(num)"
   ]
  },
  {
   "cell_type": "code",
   "execution_count": 119,
   "id": "9b59c066-c35b-44f5-9816-72fb4633efdb",
   "metadata": {},
   "outputs": [
    {
     "data": {
      "text/plain": [
       "262.0"
      ]
     },
     "execution_count": 119,
     "metadata": {},
     "output_type": "execute_result"
    }
   ],
   "source": [
    "np.percentile(num, q=90)"
   ]
  },
  {
   "cell_type": "code",
   "execution_count": 121,
   "id": "dcc35acc-9c6e-417b-8907-01d51ea92877",
   "metadata": {},
   "outputs": [],
   "source": [
    "text_vector = layers.TextVectorization(max_tokens=100000, \n",
    "                                       output_sequence_length=262)"
   ]
  },
  {
   "cell_type": "code",
   "execution_count": 122,
   "id": "642d46a0-aba3-4687-a14e-877c4d8e34f4",
   "metadata": {},
   "outputs": [],
   "source": [
    "text_vector.adapt(train_text)"
   ]
  },
  {
   "cell_type": "code",
   "execution_count": 124,
   "id": "c9ff1a43-07ed-41cc-9e21-260cefb87e61",
   "metadata": {},
   "outputs": [
    {
     "data": {
      "text/plain": [
       "['', '[UNK]', 'the', 'i', 'to', 'a', 'is', 'in', 'and', 'of']"
      ]
     },
     "execution_count": 124,
     "metadata": {},
     "output_type": "execute_result"
    }
   ],
   "source": [
    "text_vector.get_vocabulary()[:10]"
   ]
  },
  {
   "cell_type": "code",
   "execution_count": 125,
   "id": "d8e1f1ca-cf0a-407c-9e6c-1560f3c65261",
   "metadata": {},
   "outputs": [
    {
     "data": {
      "text/plain": [
       "(48934, 20)"
      ]
     },
     "execution_count": 125,
     "metadata": {},
     "output_type": "execute_result"
    }
   ],
   "source": [
    "train_label.shape"
   ]
  },
  {
   "cell_type": "markdown",
   "id": "dfbe15aa-a5d7-4f1d-8dec-87d3b9d4d93c",
   "metadata": {},
   "source": [
    "## Create a model"
   ]
  },
  {
   "cell_type": "code",
   "execution_count": 214,
   "id": "7be8704f-9e66-4c68-b7c3-ea3c61ee2deb",
   "metadata": {},
   "outputs": [],
   "source": [
    "# Set random seed\n",
    "tf.random.set_seed(42)\n",
    "\n",
    "# Create inputs\n",
    "inputs = layers.Input(shape=(1), dtype=tf.string)\n",
    "\n",
    "# Create text vectorizer \n",
    "text_vectorizer = layers.TextVectorization(max_tokens=100000, \n",
    "                                           output_sequence_length=262)\n",
    "\n",
    "text_vectorizer.adapt(train_text)\n",
    "x = text_vectorizer(inputs)\n",
    "\n",
    "# Create embeddings\n",
    "embeddings = layers.Embedding(input_dim=100000,\n",
    "                              input_length=262,\n",
    "                              output_dim=64)\n",
    "\n",
    "x = embeddings(x)\n",
    "\n",
    "# Create layer\n",
    "x = layers.Conv1D(filters=64, kernel_size=3, padding='same')(x)\n",
    "x = layers.GlobalMaxPool1D()(x)\n",
    "x = layers.Dense(20, activation='sigmoid')(x)\n",
    "\n",
    "# Pass the inputs and outputs to model\n",
    "model_1 = tf.keras.Model(inputs, x)"
   ]
  },
  {
   "cell_type": "code",
   "execution_count": 215,
   "id": "e3c66f87-634c-47e3-a922-676214122ead",
   "metadata": {},
   "outputs": [
    {
     "name": "stdout",
     "output_type": "stream",
     "text": [
      "Model: \"model_9\"\n",
      "_________________________________________________________________\n",
      " Layer (type)                Output Shape              Param #   \n",
      "=================================================================\n",
      " input_10 (InputLayer)       [(None, 1)]               0         \n",
      "                                                                 \n",
      " text_vectorization_10 (Text  (None, 262)              0         \n",
      " Vectorization)                                                  \n",
      "                                                                 \n",
      " embedding_9 (Embedding)     (None, 262, 64)           6400000   \n",
      "                                                                 \n",
      " conv1d_9 (Conv1D)           (None, 262, 64)           12352     \n",
      "                                                                 \n",
      " global_max_pooling1d_7 (Glo  (None, 64)               0         \n",
      " balMaxPooling1D)                                                \n",
      "                                                                 \n",
      " dense_9 (Dense)             (None, 20)                1300      \n",
      "                                                                 \n",
      "=================================================================\n",
      "Total params: 6,413,652\n",
      "Trainable params: 6,413,652\n",
      "Non-trainable params: 0\n",
      "_________________________________________________________________\n"
     ]
    }
   ],
   "source": [
    "model_1.summary()"
   ]
  },
  {
   "cell_type": "code",
   "execution_count": 216,
   "id": "9eafb34f-06e0-4065-8908-459bad3b5060",
   "metadata": {},
   "outputs": [],
   "source": [
    "model_1.compile(optimizer=Adam(),\n",
    "                loss=BinaryCrossentropy(),\n",
    "                metrics=['accuracy'])"
   ]
  },
  {
   "cell_type": "code",
   "execution_count": 217,
   "id": "fc2e2089-0654-42de-8840-2fc430d98c4f",
   "metadata": {},
   "outputs": [
    {
     "name": "stdout",
     "output_type": "stream",
     "text": [
      "Epoch 1/5\n",
      "1530/1530 [==============================] - 19s 12ms/step - loss: 0.1468 - accuracy: 0.5024 - val_loss: 0.0913 - val_accuracy: 0.6905\n",
      "Epoch 2/5\n",
      "1530/1530 [==============================] - 18s 12ms/step - loss: 0.0789 - accuracy: 0.7132 - val_loss: 0.0773 - val_accuracy: 0.7381\n",
      "Epoch 3/5\n",
      "1530/1530 [==============================] - 18s 12ms/step - loss: 0.0622 - accuracy: 0.7640 - val_loss: 0.0754 - val_accuracy: 0.7143\n",
      "Epoch 4/5\n",
      "1530/1530 [==============================] - 18s 12ms/step - loss: 0.0482 - accuracy: 0.8046 - val_loss: 0.0767 - val_accuracy: 0.7143\n",
      "Epoch 5/5\n",
      "1530/1530 [==============================] - 18s 12ms/step - loss: 0.0357 - accuracy: 0.8342 - val_loss: 0.0873 - val_accuracy: 0.6667\n"
     ]
    },
    {
     "data": {
      "text/plain": [
       "<keras.callbacks.History at 0x21b043af0d0>"
      ]
     },
     "execution_count": 217,
     "metadata": {},
     "output_type": "execute_result"
    }
   ],
   "source": [
    "model_1.fit(train_text, train_label,\n",
    "            validation_data=(test_text, test_label),\n",
    "            epochs=5)"
   ]
  },
  {
   "cell_type": "code",
   "execution_count": 218,
   "id": "c120dc1c-d6b0-46ba-a22a-7d45a71d30d7",
   "metadata": {},
   "outputs": [],
   "source": [
    "pred = np.round(model_1.predict(['i love python and java']))"
   ]
  },
  {
   "cell_type": "code",
   "execution_count": 219,
   "id": "80a93b94-3055-43ca-9d36-ddd5ab4a13bf",
   "metadata": {},
   "outputs": [
    {
     "data": {
      "text/plain": [
       "array([[0., 0., 0., 0., 0., 0., 0., 0., 0., 0., 1., 0., 0., 0., 0., 0.,\n",
       "        1., 0., 0., 0.]], dtype=float32)"
      ]
     },
     "execution_count": 219,
     "metadata": {},
     "output_type": "execute_result"
    }
   ],
   "source": [
    "pred"
   ]
  },
  {
   "cell_type": "code",
   "execution_count": 220,
   "id": "0ec0a3dc-1a09-4977-afdc-532961b68ef2",
   "metadata": {},
   "outputs": [
    {
     "data": {
      "text/plain": [
       "[('java', 'python')]"
      ]
     },
     "execution_count": 220,
     "metadata": {},
     "output_type": "execute_result"
    }
   ],
   "source": [
    "lb.inverse_transform(pred)"
   ]
  },
  {
   "cell_type": "code",
   "execution_count": 224,
   "id": "9f8c0714-37c6-40a3-add9-2018fdb4dd7b",
   "metadata": {},
   "outputs": [],
   "source": [
    "pred = np.round(model_1.predict(['c# is most difficult language for build game']))"
   ]
  },
  {
   "cell_type": "code",
   "execution_count": 225,
   "id": "e75afc7a-18f0-4df8-ba20-43ddf340e683",
   "metadata": {},
   "outputs": [
    {
     "data": {
      "text/plain": [
       "[('c++',)]"
      ]
     },
     "execution_count": 225,
     "metadata": {},
     "output_type": "execute_result"
    }
   ],
   "source": [
    "lb.inverse_transform(pred)"
   ]
  },
  {
   "cell_type": "code",
   "execution_count": 226,
   "id": "12f2edf5-eb5e-480e-8685-4219efb29779",
   "metadata": {},
   "outputs": [
    {
     "data": {
      "text/plain": [
       "[('python', 'sql')]"
      ]
     },
     "execution_count": 226,
     "metadata": {},
     "output_type": "execute_result"
    }
   ],
   "source": [
    "pred = np.round(model_1.predict(['databases exploration with sql and python using jupyter lab']))\n",
    "lb.inverse_transform(pred)"
   ]
  },
  {
   "cell_type": "code",
   "execution_count": 227,
   "id": "387ce76c-7616-4e1f-8655-d7287ed71a92",
   "metadata": {},
   "outputs": [
    {
     "data": {
      "text/plain": [
       "array(['.net', 'android', 'asp.net', 'c', 'c#', 'c++', 'css', 'html',\n",
       "       'ios', 'iphone', 'java', 'javascript', 'jquery', 'mysql',\n",
       "       'objective-c', 'php', 'python', 'ruby', 'ruby-on-rails', 'sql'],\n",
       "      dtype=object)"
      ]
     },
     "execution_count": 227,
     "metadata": {},
     "output_type": "execute_result"
    }
   ],
   "source": [
    "lb.classes_"
   ]
  },
  {
   "cell_type": "code",
   "execution_count": null,
   "id": "3fc4d5cd-b171-4e71-8cee-1d90df3ec08e",
   "metadata": {},
   "outputs": [],
   "source": []
  }
 ],
 "metadata": {
  "kernelspec": {
   "display_name": "my_env",
   "language": "python",
   "name": "my_env"
  },
  "language_info": {
   "codemirror_mode": {
    "name": "ipython",
    "version": 3
   },
   "file_extension": ".py",
   "mimetype": "text/x-python",
   "name": "python",
   "nbconvert_exporter": "python",
   "pygments_lexer": "ipython3",
   "version": "3.9.7"
  }
 },
 "nbformat": 4,
 "nbformat_minor": 5
}
