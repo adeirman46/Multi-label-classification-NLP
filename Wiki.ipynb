{
 "cells": [
  {
   "cell_type": "code",
   "execution_count": 39,
   "id": "bfb7ff94-abc5-472c-b94b-fae48f69d9f2",
   "metadata": {},
   "outputs": [
    {
     "data": {
      "text/plain": [
       "[name: \"/device:CPU:0\"\n",
       " device_type: \"CPU\"\n",
       " memory_limit: 268435456\n",
       " locality {\n",
       " }\n",
       " incarnation: 9729884051934557160\n",
       " xla_global_id: -1,\n",
       " name: \"/device:GPU:0\"\n",
       " device_type: \"GPU\"\n",
       " memory_limit: 2252026676\n",
       " locality {\n",
       "   bus_id: 1\n",
       "   links {\n",
       "   }\n",
       " }\n",
       " incarnation: 212222661965239838\n",
       " physical_device_desc: \"device: 0, name: NVIDIA GeForce GTX 1650 Ti, pci bus id: 0000:01:00.0, compute capability: 7.5\"\n",
       " xla_global_id: 416903419]"
      ]
     },
     "execution_count": 39,
     "metadata": {},
     "output_type": "execute_result"
    }
   ],
   "source": [
    "import pandas as pd\n",
    "import numpy as np\n",
    "import matplotlib.pyplot as plt\n",
    "import seaborn as sns\n",
    "import tensorflow as tf\n",
    "import os\n",
    "%matplotlib inline\n",
    "import string\n",
    "from tensorflow.python.client import device_lib\n",
    "from tensorflow.keras.models import Sequential, load_model, clone_model\n",
    "import tensorflow_hub as hub\n",
    "from tensorflow.keras.optimizers import Adam\n",
    "from tensorflow.keras.losses import BinaryCrossentropy, SparseCategoricalCrossentropy, CategoricalCrossentropy\n",
    "from tensorflow.keras.preprocessing.image import ImageDataGenerator\n",
    "from tensorflow.keras import layers\n",
    "from sklearn.model_selection import train_test_split\n",
    "from sklearn.metrics import ConfusionMatrixDisplay, RocCurveDisplay, classification_report\n",
    "device_lib.list_local_devices()"
   ]
  },
  {
   "cell_type": "code",
   "execution_count": 40,
   "id": "1dcf2392-da4e-4daa-87db-c30e3594000e",
   "metadata": {},
   "outputs": [],
   "source": [
    "df = pd.read_csv('DBPEDIA_test.csv')"
   ]
  },
  {
   "cell_type": "code",
   "execution_count": 41,
   "id": "e768b084-e4a5-4b18-a08a-71f0753a8237",
   "metadata": {},
   "outputs": [
    {
     "data": {
      "text/html": [
       "<div>\n",
       "<style scoped>\n",
       "    .dataframe tbody tr th:only-of-type {\n",
       "        vertical-align: middle;\n",
       "    }\n",
       "\n",
       "    .dataframe tbody tr th {\n",
       "        vertical-align: top;\n",
       "    }\n",
       "\n",
       "    .dataframe thead th {\n",
       "        text-align: right;\n",
       "    }\n",
       "</style>\n",
       "<table border=\"1\" class=\"dataframe\">\n",
       "  <thead>\n",
       "    <tr style=\"text-align: right;\">\n",
       "      <th></th>\n",
       "      <th>text</th>\n",
       "      <th>l1</th>\n",
       "      <th>l2</th>\n",
       "      <th>l3</th>\n",
       "    </tr>\n",
       "  </thead>\n",
       "  <tbody>\n",
       "    <tr>\n",
       "      <th>0</th>\n",
       "      <td>Liu Chao-shiuan (Chinese: 劉兆玄; pinyin: Liú Zhà...</td>\n",
       "      <td>Agent</td>\n",
       "      <td>Politician</td>\n",
       "      <td>PrimeMinister</td>\n",
       "    </tr>\n",
       "    <tr>\n",
       "      <th>1</th>\n",
       "      <td>Michelle Maylene (born January 20, 1987) is an...</td>\n",
       "      <td>Agent</td>\n",
       "      <td>Actor</td>\n",
       "      <td>AdultActor</td>\n",
       "    </tr>\n",
       "    <tr>\n",
       "      <th>2</th>\n",
       "      <td>Hirfanlı Dam is a dam in Turkey. The developme...</td>\n",
       "      <td>Place</td>\n",
       "      <td>Infrastructure</td>\n",
       "      <td>Dam</td>\n",
       "    </tr>\n",
       "    <tr>\n",
       "      <th>3</th>\n",
       "      <td>Grote Prijs Stad Zottegem is a single-day road...</td>\n",
       "      <td>Event</td>\n",
       "      <td>Race</td>\n",
       "      <td>CyclingRace</td>\n",
       "    </tr>\n",
       "    <tr>\n",
       "      <th>4</th>\n",
       "      <td>Johannes Petrus \\\"Hans\\\" Nijman (September 23,...</td>\n",
       "      <td>Agent</td>\n",
       "      <td>Athlete</td>\n",
       "      <td>MartialArtist</td>\n",
       "    </tr>\n",
       "  </tbody>\n",
       "</table>\n",
       "</div>"
      ],
      "text/plain": [
       "                                                text     l1              l2  \\\n",
       "0  Liu Chao-shiuan (Chinese: 劉兆玄; pinyin: Liú Zhà...  Agent      Politician   \n",
       "1  Michelle Maylene (born January 20, 1987) is an...  Agent           Actor   \n",
       "2  Hirfanlı Dam is a dam in Turkey. The developme...  Place  Infrastructure   \n",
       "3  Grote Prijs Stad Zottegem is a single-day road...  Event            Race   \n",
       "4  Johannes Petrus \\\"Hans\\\" Nijman (September 23,...  Agent         Athlete   \n",
       "\n",
       "              l3  \n",
       "0  PrimeMinister  \n",
       "1     AdultActor  \n",
       "2            Dam  \n",
       "3    CyclingRace  \n",
       "4  MartialArtist  "
      ]
     },
     "execution_count": 41,
     "metadata": {},
     "output_type": "execute_result"
    }
   ],
   "source": [
    "df.head()"
   ]
  },
  {
   "cell_type": "code",
   "execution_count": 42,
   "id": "dc9cf70c-a177-4573-ae6c-ec8906c458c6",
   "metadata": {},
   "outputs": [
    {
     "name": "stdout",
     "output_type": "stream",
     "text": [
      "<class 'pandas.core.frame.DataFrame'>\n",
      "RangeIndex: 60794 entries, 0 to 60793\n",
      "Data columns (total 4 columns):\n",
      " #   Column  Non-Null Count  Dtype \n",
      "---  ------  --------------  ----- \n",
      " 0   text    60794 non-null  object\n",
      " 1   l1      60794 non-null  object\n",
      " 2   l2      60794 non-null  object\n",
      " 3   l3      60794 non-null  object\n",
      "dtypes: object(4)\n",
      "memory usage: 1.9+ MB\n"
     ]
    }
   ],
   "source": [
    "df.info()"
   ]
  },
  {
   "cell_type": "code",
   "execution_count": 43,
   "id": "3b8e2582-898d-43c2-9794-217241bffbda",
   "metadata": {},
   "outputs": [
    {
     "data": {
      "text/html": [
       "<div>\n",
       "<style scoped>\n",
       "    .dataframe tbody tr th:only-of-type {\n",
       "        vertical-align: middle;\n",
       "    }\n",
       "\n",
       "    .dataframe tbody tr th {\n",
       "        vertical-align: top;\n",
       "    }\n",
       "\n",
       "    .dataframe thead th {\n",
       "        text-align: right;\n",
       "    }\n",
       "</style>\n",
       "<table border=\"1\" class=\"dataframe\">\n",
       "  <thead>\n",
       "    <tr style=\"text-align: right;\">\n",
       "      <th></th>\n",
       "      <th>text</th>\n",
       "      <th>l1</th>\n",
       "      <th>l2</th>\n",
       "      <th>l3</th>\n",
       "    </tr>\n",
       "  </thead>\n",
       "  <tbody>\n",
       "    <tr>\n",
       "      <th>0</th>\n",
       "      <td>Liu Chao-shiuan (Chinese: 劉兆玄; pinyin: Liú Zhà...</td>\n",
       "      <td>Agent</td>\n",
       "      <td>Politician</td>\n",
       "      <td>PrimeMinister</td>\n",
       "    </tr>\n",
       "    <tr>\n",
       "      <th>1</th>\n",
       "      <td>Michelle Maylene (born January 20, 1987) is an...</td>\n",
       "      <td>Agent</td>\n",
       "      <td>Actor</td>\n",
       "      <td>AdultActor</td>\n",
       "    </tr>\n",
       "    <tr>\n",
       "      <th>2</th>\n",
       "      <td>Hirfanlı Dam is a dam in Turkey. The developme...</td>\n",
       "      <td>Place</td>\n",
       "      <td>Infrastructure</td>\n",
       "      <td>Dam</td>\n",
       "    </tr>\n",
       "    <tr>\n",
       "      <th>3</th>\n",
       "      <td>Grote Prijs Stad Zottegem is a single-day road...</td>\n",
       "      <td>Event</td>\n",
       "      <td>Race</td>\n",
       "      <td>CyclingRace</td>\n",
       "    </tr>\n",
       "    <tr>\n",
       "      <th>4</th>\n",
       "      <td>Johannes Petrus \\\"Hans\\\" Nijman (September 23,...</td>\n",
       "      <td>Agent</td>\n",
       "      <td>Athlete</td>\n",
       "      <td>MartialArtist</td>\n",
       "    </tr>\n",
       "  </tbody>\n",
       "</table>\n",
       "</div>"
      ],
      "text/plain": [
       "                                                text     l1              l2  \\\n",
       "0  Liu Chao-shiuan (Chinese: 劉兆玄; pinyin: Liú Zhà...  Agent      Politician   \n",
       "1  Michelle Maylene (born January 20, 1987) is an...  Agent           Actor   \n",
       "2  Hirfanlı Dam is a dam in Turkey. The developme...  Place  Infrastructure   \n",
       "3  Grote Prijs Stad Zottegem is a single-day road...  Event            Race   \n",
       "4  Johannes Petrus \\\"Hans\\\" Nijman (September 23,...  Agent         Athlete   \n",
       "\n",
       "              l3  \n",
       "0  PrimeMinister  \n",
       "1     AdultActor  \n",
       "2            Dam  \n",
       "3    CyclingRace  \n",
       "4  MartialArtist  "
      ]
     },
     "execution_count": 43,
     "metadata": {},
     "output_type": "execute_result"
    }
   ],
   "source": [
    "df.head()"
   ]
  },
  {
   "cell_type": "code",
   "execution_count": 120,
   "id": "33b4b40b-8ea9-4a4e-b3cc-c6ce9a277afb",
   "metadata": {},
   "outputs": [],
   "source": [
    "df['Tags'] = \"[\" + '\"' + df.l1 + '\"' +  ', ' + '\"' + df.l2 + '\"' + ']'"
   ]
  },
  {
   "cell_type": "code",
   "execution_count": 121,
   "id": "8e6fe925-b6c9-4abf-a27a-b2b1733093c2",
   "metadata": {},
   "outputs": [
    {
     "data": {
      "text/html": [
       "<div>\n",
       "<style scoped>\n",
       "    .dataframe tbody tr th:only-of-type {\n",
       "        vertical-align: middle;\n",
       "    }\n",
       "\n",
       "    .dataframe tbody tr th {\n",
       "        vertical-align: top;\n",
       "    }\n",
       "\n",
       "    .dataframe thead th {\n",
       "        text-align: right;\n",
       "    }\n",
       "</style>\n",
       "<table border=\"1\" class=\"dataframe\">\n",
       "  <thead>\n",
       "    <tr style=\"text-align: right;\">\n",
       "      <th></th>\n",
       "      <th>text</th>\n",
       "      <th>l1</th>\n",
       "      <th>l2</th>\n",
       "      <th>l3</th>\n",
       "      <th>Tags</th>\n",
       "    </tr>\n",
       "  </thead>\n",
       "  <tbody>\n",
       "    <tr>\n",
       "      <th>0</th>\n",
       "      <td>liu chaoshiuan chinese pinyin li zhoxun born m...</td>\n",
       "      <td>Agent</td>\n",
       "      <td>Politician</td>\n",
       "      <td>PrimeMinister</td>\n",
       "      <td>[\"Agent\", \"Politician\"]</td>\n",
       "    </tr>\n",
       "    <tr>\n",
       "      <th>1</th>\n",
       "      <td>michelle maylene born january is an actress ad...</td>\n",
       "      <td>Agent</td>\n",
       "      <td>Actor</td>\n",
       "      <td>AdultActor</td>\n",
       "      <td>[\"Agent\", \"Actor\"]</td>\n",
       "    </tr>\n",
       "    <tr>\n",
       "      <th>2</th>\n",
       "      <td>hirfanl dam is a dam in turkey the development...</td>\n",
       "      <td>Place</td>\n",
       "      <td>Infrastructure</td>\n",
       "      <td>Dam</td>\n",
       "      <td>[\"Place\", \"Infrastructure\"]</td>\n",
       "    </tr>\n",
       "    <tr>\n",
       "      <th>3</th>\n",
       "      <td>grote prijs stad zottegem is a singleday road ...</td>\n",
       "      <td>Event</td>\n",
       "      <td>Race</td>\n",
       "      <td>CyclingRace</td>\n",
       "      <td>[\"Event\", \"Race\"]</td>\n",
       "    </tr>\n",
       "    <tr>\n",
       "      <th>4</th>\n",
       "      <td>johannes petrus hans nijman september november...</td>\n",
       "      <td>Agent</td>\n",
       "      <td>Athlete</td>\n",
       "      <td>MartialArtist</td>\n",
       "      <td>[\"Agent\", \"Athlete\"]</td>\n",
       "    </tr>\n",
       "  </tbody>\n",
       "</table>\n",
       "</div>"
      ],
      "text/plain": [
       "                                                text     l1              l2  \\\n",
       "0  liu chaoshiuan chinese pinyin li zhoxun born m...  Agent      Politician   \n",
       "1  michelle maylene born january is an actress ad...  Agent           Actor   \n",
       "2  hirfanl dam is a dam in turkey the development...  Place  Infrastructure   \n",
       "3  grote prijs stad zottegem is a singleday road ...  Event            Race   \n",
       "4  johannes petrus hans nijman september november...  Agent         Athlete   \n",
       "\n",
       "              l3                         Tags  \n",
       "0  PrimeMinister      [\"Agent\", \"Politician\"]  \n",
       "1     AdultActor           [\"Agent\", \"Actor\"]  \n",
       "2            Dam  [\"Place\", \"Infrastructure\"]  \n",
       "3    CyclingRace            [\"Event\", \"Race\"]  \n",
       "4  MartialArtist         [\"Agent\", \"Athlete\"]  "
      ]
     },
     "execution_count": 121,
     "metadata": {},
     "output_type": "execute_result"
    }
   ],
   "source": [
    "df.head()"
   ]
  },
  {
   "cell_type": "code",
   "execution_count": 122,
   "id": "5e325abb-bbf7-406e-bba2-c6acecc3b35e",
   "metadata": {},
   "outputs": [
    {
     "data": {
      "text/plain": [
       "'[\"Agent\", \"Politician\"]'"
      ]
     },
     "execution_count": 122,
     "metadata": {},
     "output_type": "execute_result"
    }
   ],
   "source": [
    "df.Tags.iloc[0]"
   ]
  },
  {
   "cell_type": "code",
   "execution_count": 123,
   "id": "ce6d8809-ff81-48ba-ac47-4c8bca1d4430",
   "metadata": {},
   "outputs": [],
   "source": [
    "df.Tags = df.Tags.apply(lambda x: eval(x))"
   ]
  },
  {
   "cell_type": "code",
   "execution_count": 128,
   "id": "60a49286-8dd6-4645-a7f1-54b5acfce74f",
   "metadata": {},
   "outputs": [
    {
     "data": {
      "text/plain": [
       "['Agent', 'Politician']"
      ]
     },
     "execution_count": 128,
     "metadata": {},
     "output_type": "execute_result"
    }
   ],
   "source": [
    "df.Tags.iloc[0]"
   ]
  },
  {
   "cell_type": "code",
   "execution_count": 129,
   "id": "40693b4a-a8c5-437d-8f0b-29f7a045a8aa",
   "metadata": {},
   "outputs": [
    {
     "data": {
      "text/html": [
       "<div>\n",
       "<style scoped>\n",
       "    .dataframe tbody tr th:only-of-type {\n",
       "        vertical-align: middle;\n",
       "    }\n",
       "\n",
       "    .dataframe tbody tr th {\n",
       "        vertical-align: top;\n",
       "    }\n",
       "\n",
       "    .dataframe thead th {\n",
       "        text-align: right;\n",
       "    }\n",
       "</style>\n",
       "<table border=\"1\" class=\"dataframe\">\n",
       "  <thead>\n",
       "    <tr style=\"text-align: right;\">\n",
       "      <th></th>\n",
       "      <th>text</th>\n",
       "      <th>l1</th>\n",
       "      <th>l2</th>\n",
       "      <th>l3</th>\n",
       "      <th>Tags</th>\n",
       "    </tr>\n",
       "  </thead>\n",
       "  <tbody>\n",
       "    <tr>\n",
       "      <th>0</th>\n",
       "      <td>liu chaoshiuan chinese pinyin li zhoxun born m...</td>\n",
       "      <td>Agent</td>\n",
       "      <td>Politician</td>\n",
       "      <td>PrimeMinister</td>\n",
       "      <td>[Agent, Politician]</td>\n",
       "    </tr>\n",
       "    <tr>\n",
       "      <th>1</th>\n",
       "      <td>michelle maylene born january is an actress ad...</td>\n",
       "      <td>Agent</td>\n",
       "      <td>Actor</td>\n",
       "      <td>AdultActor</td>\n",
       "      <td>[Agent, Actor]</td>\n",
       "    </tr>\n",
       "    <tr>\n",
       "      <th>2</th>\n",
       "      <td>hirfanl dam is a dam in turkey the development...</td>\n",
       "      <td>Place</td>\n",
       "      <td>Infrastructure</td>\n",
       "      <td>Dam</td>\n",
       "      <td>[Place, Infrastructure]</td>\n",
       "    </tr>\n",
       "    <tr>\n",
       "      <th>3</th>\n",
       "      <td>grote prijs stad zottegem is a singleday road ...</td>\n",
       "      <td>Event</td>\n",
       "      <td>Race</td>\n",
       "      <td>CyclingRace</td>\n",
       "      <td>[Event, Race]</td>\n",
       "    </tr>\n",
       "    <tr>\n",
       "      <th>4</th>\n",
       "      <td>johannes petrus hans nijman september november...</td>\n",
       "      <td>Agent</td>\n",
       "      <td>Athlete</td>\n",
       "      <td>MartialArtist</td>\n",
       "      <td>[Agent, Athlete]</td>\n",
       "    </tr>\n",
       "  </tbody>\n",
       "</table>\n",
       "</div>"
      ],
      "text/plain": [
       "                                                text     l1              l2  \\\n",
       "0  liu chaoshiuan chinese pinyin li zhoxun born m...  Agent      Politician   \n",
       "1  michelle maylene born january is an actress ad...  Agent           Actor   \n",
       "2  hirfanl dam is a dam in turkey the development...  Place  Infrastructure   \n",
       "3  grote prijs stad zottegem is a singleday road ...  Event            Race   \n",
       "4  johannes petrus hans nijman september november...  Agent         Athlete   \n",
       "\n",
       "              l3                     Tags  \n",
       "0  PrimeMinister      [Agent, Politician]  \n",
       "1     AdultActor           [Agent, Actor]  \n",
       "2            Dam  [Place, Infrastructure]  \n",
       "3    CyclingRace            [Event, Race]  \n",
       "4  MartialArtist         [Agent, Athlete]  "
      ]
     },
     "execution_count": 129,
     "metadata": {},
     "output_type": "execute_result"
    }
   ],
   "source": [
    "df.head()"
   ]
  },
  {
   "cell_type": "code",
   "execution_count": 44,
   "id": "dc9f0c75-9254-453a-b0fa-8a3197f55fde",
   "metadata": {},
   "outputs": [],
   "source": [
    "df.text = df.text.apply(lambda x: ''.join([i for i in x if i not in string.punctuation]))"
   ]
  },
  {
   "cell_type": "code",
   "execution_count": 45,
   "id": "d41b9a6d-2d08-421d-a3c2-54d7c19bd261",
   "metadata": {},
   "outputs": [],
   "source": [
    "from re import sub"
   ]
  },
  {
   "cell_type": "code",
   "execution_count": 46,
   "id": "b81d5384-5e28-48c8-b155-60565826dd82",
   "metadata": {},
   "outputs": [],
   "source": [
    "df.text = df.text.apply(lambda x: sub('([0-9])', '', x))"
   ]
  },
  {
   "cell_type": "code",
   "execution_count": 47,
   "id": "e735d922-60a6-4f4e-89f3-57d80e71c8ce",
   "metadata": {},
   "outputs": [],
   "source": [
    "df.text = df.text.apply(lambda x: x.lower())"
   ]
  },
  {
   "cell_type": "code",
   "execution_count": 49,
   "id": "eccd8a51-2237-4536-8f29-0732284d16ab",
   "metadata": {},
   "outputs": [
    {
     "data": {
      "text/plain": [
       "'liu chaoshiuan chinese 劉兆玄 pinyin liú zhàoxuán born may   is a taiwanese educator and politician he is a former president of the national tsing hua university – and soochow university – and a former premier of the republic of china –'"
      ]
     },
     "execution_count": 49,
     "metadata": {},
     "output_type": "execute_result"
    }
   ],
   "source": [
    "df.text.iloc[0]"
   ]
  },
  {
   "cell_type": "code",
   "execution_count": 50,
   "id": "83a5a0b8-5c0a-44be-ba1a-756d24746b7e",
   "metadata": {},
   "outputs": [],
   "source": [
    "df.text = df.text.apply(lambda x: sub(' +', ' ', x))"
   ]
  },
  {
   "cell_type": "code",
   "execution_count": 52,
   "id": "b2ab83a0-24c7-4649-b166-c123ec960ce7",
   "metadata": {},
   "outputs": [
    {
     "data": {
      "text/plain": [
       "'liu chaoshiuan chinese 劉兆玄 pinyin liú zhàoxuán born may is a taiwanese educator and politician he is a former president of the national tsing hua university – and soochow university – and a former premier of the republic of china –'"
      ]
     },
     "execution_count": 52,
     "metadata": {},
     "output_type": "execute_result"
    }
   ],
   "source": [
    "df.text[0]"
   ]
  },
  {
   "cell_type": "code",
   "execution_count": 53,
   "id": "73a0c16d-52ce-4248-85bf-31be2b8bd515",
   "metadata": {},
   "outputs": [],
   "source": [
    "df.text = df.text.apply(lambda x: x.encode('ascii', 'ignore').decode())"
   ]
  },
  {
   "cell_type": "code",
   "execution_count": 55,
   "id": "035d09f2-adaa-42ce-97e0-e1e6b4f1f911",
   "metadata": {},
   "outputs": [
    {
     "data": {
      "text/plain": [
       "'liu chaoshiuan chinese  pinyin li zhoxun born may is a taiwanese educator and politician he is a former president of the national tsing hua university  and soochow university  and a former premier of the republic of china '"
      ]
     },
     "execution_count": 55,
     "metadata": {},
     "output_type": "execute_result"
    }
   ],
   "source": [
    "df.text.iloc[0]"
   ]
  },
  {
   "cell_type": "code",
   "execution_count": 56,
   "id": "0002c0ae-ee43-4cf2-bdbc-bfda0f63f12b",
   "metadata": {},
   "outputs": [],
   "source": [
    "df.text = df.text.apply(lambda x: sub(' +', ' ', x))"
   ]
  },
  {
   "cell_type": "code",
   "execution_count": 57,
   "id": "5a5f81d9-4c30-4249-babc-7eac6bddcd3e",
   "metadata": {},
   "outputs": [
    {
     "data": {
      "text/plain": [
       "'liu chaoshiuan chinese pinyin li zhoxun born may is a taiwanese educator and politician he is a former president of the national tsing hua university and soochow university and a former premier of the republic of china '"
      ]
     },
     "execution_count": 57,
     "metadata": {},
     "output_type": "execute_result"
    }
   ],
   "source": [
    "df.text.iloc[0]"
   ]
  },
  {
   "cell_type": "code",
   "execution_count": 73,
   "id": "1b813082-3d94-4afe-bfb3-503dc68fe465",
   "metadata": {},
   "outputs": [
    {
     "data": {
      "text/plain": [
       "Agent             31495\n",
       "Place             11574\n",
       "Species            5418\n",
       "Work               5300\n",
       "Event              4820\n",
       "SportsSeason       1483\n",
       "UnitOfWork          444\n",
       "TopicalConcept      198\n",
       "Device               62\n",
       "Name: l1, dtype: int64"
      ]
     },
     "execution_count": 73,
     "metadata": {},
     "output_type": "execute_result"
    }
   ],
   "source": [
    "df['l1'].value_counts()"
   ]
  },
  {
   "cell_type": "code",
   "execution_count": 88,
   "id": "09135149-6dac-4a3c-b8e4-1d9898832212",
   "metadata": {},
   "outputs": [
    {
     "data": {
      "text/plain": [
       "Athlete             7855\n",
       "Person              4922\n",
       "Animal              3705\n",
       "Building            2700\n",
       "Politician          2396\n",
       "                    ... \n",
       "MusicalArtist         50\n",
       "RaceTrack             43\n",
       "ComicsCharacter       37\n",
       "VolleyballPlayer      35\n",
       "Database              33\n",
       "Name: l2, Length: 70, dtype: int64"
      ]
     },
     "execution_count": 88,
     "metadata": {},
     "output_type": "execute_result"
    }
   ],
   "source": [
    "df['l2'].value_counts()"
   ]
  },
  {
   "cell_type": "code",
   "execution_count": 89,
   "id": "44514265-c1d3-4d3b-aaf8-8c16ab075dcf",
   "metadata": {},
   "outputs": [
    {
     "data": {
      "text/plain": [
       "Gymnast                  485\n",
       "Mollusca                 485\n",
       "Manga                    485\n",
       "AcademicJournal          485\n",
       "OlympicEvent             485\n",
       "                        ... \n",
       "Cycad                     37\n",
       "AnimangaCharacter         37\n",
       "BeachVolleyballPlayer     35\n",
       "CanadianFootballTeam      34\n",
       "BiologicalDatabase        33\n",
       "Name: l3, Length: 219, dtype: int64"
      ]
     },
     "execution_count": 89,
     "metadata": {},
     "output_type": "execute_result"
    }
   ],
   "source": [
    "df['l3'].value_counts()"
   ]
  },
  {
   "cell_type": "code",
   "execution_count": 72,
   "id": "76b19d37-2a53-49bd-9526-e6699cf95313",
   "metadata": {},
   "outputs": [],
   "source": [
    "from sklearn.preprocessing import LabelBinarizer, MultiLabelBinarizer\n",
    "from sklearn.model_selection import train_test_split"
   ]
  },
  {
   "cell_type": "code",
   "execution_count": 125,
   "id": "ade78acf-e215-4fbc-924f-386ec59dbacd",
   "metadata": {},
   "outputs": [],
   "source": [
    "train_df, test_df = train_test_split(df, test_size=0.2, random_state=42)"
   ]
  },
  {
   "cell_type": "code",
   "execution_count": 126,
   "id": "a94c3f79-45a7-4067-9f08-39ea60e03075",
   "metadata": {},
   "outputs": [],
   "source": [
    "train_text = train_df.text.to_numpy()\n",
    "test_text = test_df.text.to_numpy()"
   ]
  },
  {
   "cell_type": "code",
   "execution_count": 112,
   "id": "8f36da75-d0ed-4228-a331-5871168b65ee",
   "metadata": {},
   "outputs": [
    {
     "data": {
      "text/plain": [
       "array(['the hopman cup also known as the hyundai hopman cup for sponsorship reasons corresponds to the th edition of the hopman cup tournament between nations in mens and womens tennis nine teams participated in the world group the hopman cup was a tennis championship won by south africas amanda coetzer and wayne ferreira coetzer and ferreira defeated thailand tamarine tanasugarn and paradorn srichaphan in the final at the burswood entertainment complex in perth australia from january through january ',\n",
       "       'bolitoglossinae is a subfamily of lungless salamander most of them are native to tropical areas in central and south america though a few such as batrachoseps are found in temperate regions its sister group is the extinct genus palaeoplethodon'],\n",
       "      dtype=object)"
      ]
     },
     "execution_count": 112,
     "metadata": {},
     "output_type": "execute_result"
    }
   ],
   "source": [
    "train_text[:2]"
   ]
  },
  {
   "cell_type": "code",
   "execution_count": 97,
   "id": "2e790949-4df0-495c-9f95-405dc9f9b3b6",
   "metadata": {},
   "outputs": [],
   "source": [
    "num = [len(i.split()) for i in train_text]"
   ]
  },
  {
   "cell_type": "code",
   "execution_count": 98,
   "id": "27c55b7c-017a-43fe-b860-a1058df6398f",
   "metadata": {},
   "outputs": [
    {
     "data": {
      "text/plain": [
       "[78, 39, 143, 30, 56, 43, 309, 22, 41, 169]"
      ]
     },
     "execution_count": 98,
     "metadata": {},
     "output_type": "execute_result"
    }
   ],
   "source": [
    "num[:10]"
   ]
  },
  {
   "cell_type": "code",
   "execution_count": 99,
   "id": "de6341ca-1cb7-4d1d-baf5-441f4540169f",
   "metadata": {},
   "outputs": [
    {
     "data": {
      "text/plain": [
       "215.0"
      ]
     },
     "execution_count": 99,
     "metadata": {},
     "output_type": "execute_result"
    }
   ],
   "source": [
    "np.percentile(num, q=90)"
   ]
  },
  {
   "cell_type": "code",
   "execution_count": 100,
   "id": "d38a954d-d856-430e-b36b-9ff49a2f51b7",
   "metadata": {},
   "outputs": [
    {
     "data": {
      "text/plain": [
       "4739308"
      ]
     },
     "execution_count": 100,
     "metadata": {},
     "output_type": "execute_result"
    }
   ],
   "source": [
    "np.sum(num)"
   ]
  },
  {
   "cell_type": "code",
   "execution_count": 67,
   "id": "52b3ac29-20e2-4d22-84c1-ace4bd339909",
   "metadata": {},
   "outputs": [],
   "source": [
    "text_vector = layers.TextVectorization(max_tokens=100000,\n",
    "                                       output_sequence_length=216)"
   ]
  },
  {
   "cell_type": "code",
   "execution_count": 68,
   "id": "684b7c92-a5c0-48cd-9141-0216d35961f6",
   "metadata": {},
   "outputs": [],
   "source": [
    "text_vector.adapt(train_text)"
   ]
  },
  {
   "cell_type": "code",
   "execution_count": 70,
   "id": "7669f6ca-1572-4e7e-98c6-641608c2832f",
   "metadata": {},
   "outputs": [
    {
     "data": {
      "text/plain": [
       "['', '[UNK]', 'the', 'in', 'of', 'and', 'a', 'is', 'was', 'to']"
      ]
     },
     "execution_count": 70,
     "metadata": {},
     "output_type": "execute_result"
    }
   ],
   "source": [
    "text_vector.get_vocabulary()[:10]"
   ]
  },
  {
   "cell_type": "code",
   "execution_count": 79,
   "id": "75bdc7af-6a40-4b90-b505-7b7e71acb321",
   "metadata": {},
   "outputs": [],
   "source": [
    "lb = MultiLabelBinarizer()"
   ]
  },
  {
   "cell_type": "code",
   "execution_count": 127,
   "id": "095a8fa5-fd3d-4c90-bf43-89ed9152ccd5",
   "metadata": {},
   "outputs": [
    {
     "data": {
      "text/html": [
       "<div>\n",
       "<style scoped>\n",
       "    .dataframe tbody tr th:only-of-type {\n",
       "        vertical-align: middle;\n",
       "    }\n",
       "\n",
       "    .dataframe tbody tr th {\n",
       "        vertical-align: top;\n",
       "    }\n",
       "\n",
       "    .dataframe thead th {\n",
       "        text-align: right;\n",
       "    }\n",
       "</style>\n",
       "<table border=\"1\" class=\"dataframe\">\n",
       "  <thead>\n",
       "    <tr style=\"text-align: right;\">\n",
       "      <th></th>\n",
       "      <th>text</th>\n",
       "      <th>l1</th>\n",
       "      <th>l2</th>\n",
       "      <th>l3</th>\n",
       "      <th>Tags</th>\n",
       "    </tr>\n",
       "  </thead>\n",
       "  <tbody>\n",
       "    <tr>\n",
       "      <th>18963</th>\n",
       "      <td>the hopman cup also known as the hyundai hopma...</td>\n",
       "      <td>Event</td>\n",
       "      <td>Tournament</td>\n",
       "      <td>TennisTournament</td>\n",
       "      <td>[Event, Tournament]</td>\n",
       "    </tr>\n",
       "    <tr>\n",
       "      <th>31903</th>\n",
       "      <td>bolitoglossinae is a subfamily of lungless sal...</td>\n",
       "      <td>Species</td>\n",
       "      <td>Animal</td>\n",
       "      <td>Amphibian</td>\n",
       "      <td>[Species, Animal]</td>\n",
       "    </tr>\n",
       "    <tr>\n",
       "      <th>51594</th>\n",
       "      <td>air seychelles is the national airline of the ...</td>\n",
       "      <td>Agent</td>\n",
       "      <td>Company</td>\n",
       "      <td>Airline</td>\n",
       "      <td>[Agent, Company]</td>\n",
       "    </tr>\n",
       "    <tr>\n",
       "      <th>4385</th>\n",
       "      <td>pyhvesi is a mediumsized lake located in the s...</td>\n",
       "      <td>Place</td>\n",
       "      <td>BodyOfWater</td>\n",
       "      <td>Lake</td>\n",
       "      <td>[Place, BodyOfWater]</td>\n",
       "    </tr>\n",
       "    <tr>\n",
       "      <th>19166</th>\n",
       "      <td>david feherty born august is a former professi...</td>\n",
       "      <td>Agent</td>\n",
       "      <td>Athlete</td>\n",
       "      <td>GolfPlayer</td>\n",
       "      <td>[Agent, Athlete]</td>\n",
       "    </tr>\n",
       "  </tbody>\n",
       "</table>\n",
       "</div>"
      ],
      "text/plain": [
       "                                                    text       l1  \\\n",
       "18963  the hopman cup also known as the hyundai hopma...    Event   \n",
       "31903  bolitoglossinae is a subfamily of lungless sal...  Species   \n",
       "51594  air seychelles is the national airline of the ...    Agent   \n",
       "4385   pyhvesi is a mediumsized lake located in the s...    Place   \n",
       "19166  david feherty born august is a former professi...    Agent   \n",
       "\n",
       "                l2                l3                  Tags  \n",
       "18963   Tournament  TennisTournament   [Event, Tournament]  \n",
       "31903       Animal         Amphibian     [Species, Animal]  \n",
       "51594      Company           Airline      [Agent, Company]  \n",
       "4385   BodyOfWater              Lake  [Place, BodyOfWater]  \n",
       "19166      Athlete        GolfPlayer      [Agent, Athlete]  "
      ]
     },
     "execution_count": 127,
     "metadata": {},
     "output_type": "execute_result"
    }
   ],
   "source": [
    "train_df.head()"
   ]
  },
  {
   "cell_type": "code",
   "execution_count": 145,
   "id": "e9d812a5-005e-49a3-a68d-f108b3f7bfe7",
   "metadata": {},
   "outputs": [],
   "source": [
    "train_label = lb.fit_transform(train_df.Tags)"
   ]
  },
  {
   "cell_type": "code",
   "execution_count": 146,
   "id": "2a07d8f8-08c2-47f5-8e36-162100791af3",
   "metadata": {},
   "outputs": [],
   "source": [
    "test_label = lb.transform(test_df.Tags)"
   ]
  },
  {
   "cell_type": "code",
   "execution_count": 169,
   "id": "0d8521a6-aa71-4abb-a1a5-f3d293ae43c4",
   "metadata": {},
   "outputs": [
    {
     "data": {
      "text/html": [
       "<div>\n",
       "<style scoped>\n",
       "    .dataframe tbody tr th:only-of-type {\n",
       "        vertical-align: middle;\n",
       "    }\n",
       "\n",
       "    .dataframe tbody tr th {\n",
       "        vertical-align: top;\n",
       "    }\n",
       "\n",
       "    .dataframe thead th {\n",
       "        text-align: right;\n",
       "    }\n",
       "</style>\n",
       "<table border=\"1\" class=\"dataframe\">\n",
       "  <thead>\n",
       "    <tr style=\"text-align: right;\">\n",
       "      <th></th>\n",
       "      <th>text</th>\n",
       "      <th>l1</th>\n",
       "      <th>l2</th>\n",
       "      <th>l3</th>\n",
       "      <th>Tags</th>\n",
       "    </tr>\n",
       "  </thead>\n",
       "  <tbody>\n",
       "    <tr>\n",
       "      <th>37217</th>\n",
       "      <td>screen singapore was held in august on the occ...</td>\n",
       "      <td>Event</td>\n",
       "      <td>SocietalEvent</td>\n",
       "      <td>FilmFestival</td>\n",
       "      <td>[Event, SocietalEvent]</td>\n",
       "    </tr>\n",
       "    <tr>\n",
       "      <th>51092</th>\n",
       "      <td>gediz niversitesi genlik ve spor kulb known as...</td>\n",
       "      <td>Agent</td>\n",
       "      <td>SportsTeam</td>\n",
       "      <td>BasketballTeam</td>\n",
       "      <td>[Agent, SportsTeam]</td>\n",
       "    </tr>\n",
       "    <tr>\n",
       "      <th>8473</th>\n",
       "      <td>cumberland head light is a lighthouse on lake ...</td>\n",
       "      <td>Place</td>\n",
       "      <td>Tower</td>\n",
       "      <td>Lighthouse</td>\n",
       "      <td>[Place, Tower]</td>\n",
       "    </tr>\n",
       "    <tr>\n",
       "      <th>1334</th>\n",
       "      <td>yakounia is a genus of evolutely coiled planis...</td>\n",
       "      <td>Species</td>\n",
       "      <td>Animal</td>\n",
       "      <td>Mollusca</td>\n",
       "      <td>[Species, Animal]</td>\n",
       "    </tr>\n",
       "    <tr>\n",
       "      <th>47822</th>\n",
       "      <td>hollywood mogul is a computer game released in...</td>\n",
       "      <td>Work</td>\n",
       "      <td>Software</td>\n",
       "      <td>VideoGame</td>\n",
       "      <td>[Work, Software]</td>\n",
       "    </tr>\n",
       "    <tr>\n",
       "      <th>14938</th>\n",
       "      <td>rangunia college bengali is a private college ...</td>\n",
       "      <td>Agent</td>\n",
       "      <td>EducationalInstitution</td>\n",
       "      <td>University</td>\n",
       "      <td>[Agent, EducationalInstitution]</td>\n",
       "    </tr>\n",
       "    <tr>\n",
       "      <th>30735</th>\n",
       "      <td>the common crane grus grus also known as the e...</td>\n",
       "      <td>Species</td>\n",
       "      <td>Animal</td>\n",
       "      <td>Bird</td>\n",
       "      <td>[Species, Animal]</td>\n",
       "    </tr>\n",
       "    <tr>\n",
       "      <th>59336</th>\n",
       "      <td>the bulgarian cup final was the th final of th...</td>\n",
       "      <td>Event</td>\n",
       "      <td>SportsEvent</td>\n",
       "      <td>FootballMatch</td>\n",
       "      <td>[Event, SportsEvent]</td>\n",
       "    </tr>\n",
       "    <tr>\n",
       "      <th>30410</th>\n",
       "      <td>asmussia murchisoniana was a devonian crustace...</td>\n",
       "      <td>Species</td>\n",
       "      <td>Animal</td>\n",
       "      <td>Crustacean</td>\n",
       "      <td>[Species, Animal]</td>\n",
       "    </tr>\n",
       "    <tr>\n",
       "      <th>35074</th>\n",
       "      <td>the kambarata dam also known as kambarata or k...</td>\n",
       "      <td>Place</td>\n",
       "      <td>Infrastructure</td>\n",
       "      <td>Dam</td>\n",
       "      <td>[Place, Infrastructure]</td>\n",
       "    </tr>\n",
       "    <tr>\n",
       "      <th>23825</th>\n",
       "      <td>the yellowheaded temple turtle heosemys annand...</td>\n",
       "      <td>Species</td>\n",
       "      <td>Animal</td>\n",
       "      <td>Reptile</td>\n",
       "      <td>[Species, Animal]</td>\n",
       "    </tr>\n",
       "    <tr>\n",
       "      <th>39869</th>\n",
       "      <td>dag holmenjensen born may is a norwegian forme...</td>\n",
       "      <td>Agent</td>\n",
       "      <td>WinterSportPlayer</td>\n",
       "      <td>Skier</td>\n",
       "      <td>[Agent, WinterSportPlayer]</td>\n",
       "    </tr>\n",
       "    <tr>\n",
       "      <th>55177</th>\n",
       "      <td>mantidactylus pauliani is a species of frog in...</td>\n",
       "      <td>Species</td>\n",
       "      <td>Animal</td>\n",
       "      <td>Amphibian</td>\n",
       "      <td>[Species, Animal]</td>\n",
       "    </tr>\n",
       "    <tr>\n",
       "      <th>55011</th>\n",
       "      <td>himalayan benttoed gecko cyrtopodion himalayan...</td>\n",
       "      <td>Species</td>\n",
       "      <td>Animal</td>\n",
       "      <td>Reptile</td>\n",
       "      <td>[Species, Animal]</td>\n",
       "    </tr>\n",
       "    <tr>\n",
       "      <th>33164</th>\n",
       "      <td>colorado state university mountain campus also...</td>\n",
       "      <td>Agent</td>\n",
       "      <td>EducationalInstitution</td>\n",
       "      <td>University</td>\n",
       "      <td>[Agent, EducationalInstitution]</td>\n",
       "    </tr>\n",
       "    <tr>\n",
       "      <th>24353</th>\n",
       "      <td>the spinifexbird megalurus carteri is endemic ...</td>\n",
       "      <td>Species</td>\n",
       "      <td>Animal</td>\n",
       "      <td>Bird</td>\n",
       "      <td>[Species, Animal]</td>\n",
       "    </tr>\n",
       "    <tr>\n",
       "      <th>55692</th>\n",
       "      <td>the vivian beaumont theater is a theater locat...</td>\n",
       "      <td>Place</td>\n",
       "      <td>Venue</td>\n",
       "      <td>Theatre</td>\n",
       "      <td>[Place, Venue]</td>\n",
       "    </tr>\n",
       "    <tr>\n",
       "      <th>51547</th>\n",
       "      <td>dimorphococcopsis is a genus of green algae in...</td>\n",
       "      <td>Species</td>\n",
       "      <td>Plant</td>\n",
       "      <td>GreenAlga</td>\n",
       "      <td>[Species, Plant]</td>\n",
       "    </tr>\n",
       "    <tr>\n",
       "      <th>60384</th>\n",
       "      <td>bill bowes born is a venture capitalist philan...</td>\n",
       "      <td>Agent</td>\n",
       "      <td>Person</td>\n",
       "      <td>BusinessPerson</td>\n",
       "      <td>[Agent, Person]</td>\n",
       "    </tr>\n",
       "    <tr>\n",
       "      <th>5253</th>\n",
       "      <td>west virginia route is an unsigned state highw...</td>\n",
       "      <td>Place</td>\n",
       "      <td>RouteOfTransportation</td>\n",
       "      <td>Road</td>\n",
       "      <td>[Place, RouteOfTransportation]</td>\n",
       "    </tr>\n",
       "  </tbody>\n",
       "</table>\n",
       "</div>"
      ],
      "text/plain": [
       "                                                    text       l1  \\\n",
       "37217  screen singapore was held in august on the occ...    Event   \n",
       "51092  gediz niversitesi genlik ve spor kulb known as...    Agent   \n",
       "8473   cumberland head light is a lighthouse on lake ...    Place   \n",
       "1334   yakounia is a genus of evolutely coiled planis...  Species   \n",
       "47822  hollywood mogul is a computer game released in...     Work   \n",
       "14938  rangunia college bengali is a private college ...    Agent   \n",
       "30735  the common crane grus grus also known as the e...  Species   \n",
       "59336  the bulgarian cup final was the th final of th...    Event   \n",
       "30410  asmussia murchisoniana was a devonian crustace...  Species   \n",
       "35074  the kambarata dam also known as kambarata or k...    Place   \n",
       "23825  the yellowheaded temple turtle heosemys annand...  Species   \n",
       "39869  dag holmenjensen born may is a norwegian forme...    Agent   \n",
       "55177  mantidactylus pauliani is a species of frog in...  Species   \n",
       "55011  himalayan benttoed gecko cyrtopodion himalayan...  Species   \n",
       "33164  colorado state university mountain campus also...    Agent   \n",
       "24353  the spinifexbird megalurus carteri is endemic ...  Species   \n",
       "55692  the vivian beaumont theater is a theater locat...    Place   \n",
       "51547  dimorphococcopsis is a genus of green algae in...  Species   \n",
       "60384  bill bowes born is a venture capitalist philan...    Agent   \n",
       "5253   west virginia route is an unsigned state highw...    Place   \n",
       "\n",
       "                           l2              l3                             Tags  \n",
       "37217           SocietalEvent    FilmFestival           [Event, SocietalEvent]  \n",
       "51092              SportsTeam  BasketballTeam              [Agent, SportsTeam]  \n",
       "8473                    Tower      Lighthouse                   [Place, Tower]  \n",
       "1334                   Animal        Mollusca                [Species, Animal]  \n",
       "47822                Software       VideoGame                 [Work, Software]  \n",
       "14938  EducationalInstitution      University  [Agent, EducationalInstitution]  \n",
       "30735                  Animal            Bird                [Species, Animal]  \n",
       "59336             SportsEvent   FootballMatch             [Event, SportsEvent]  \n",
       "30410                  Animal      Crustacean                [Species, Animal]  \n",
       "35074          Infrastructure             Dam          [Place, Infrastructure]  \n",
       "23825                  Animal         Reptile                [Species, Animal]  \n",
       "39869       WinterSportPlayer           Skier       [Agent, WinterSportPlayer]  \n",
       "55177                  Animal       Amphibian                [Species, Animal]  \n",
       "55011                  Animal         Reptile                [Species, Animal]  \n",
       "33164  EducationalInstitution      University  [Agent, EducationalInstitution]  \n",
       "24353                  Animal            Bird                [Species, Animal]  \n",
       "55692                   Venue         Theatre                   [Place, Venue]  \n",
       "51547                   Plant       GreenAlga                 [Species, Plant]  \n",
       "60384                  Person  BusinessPerson                  [Agent, Person]  \n",
       "5253    RouteOfTransportation            Road   [Place, RouteOfTransportation]  "
      ]
     },
     "execution_count": 169,
     "metadata": {},
     "output_type": "execute_result"
    }
   ],
   "source": [
    "test_df[:20]"
   ]
  },
  {
   "cell_type": "code",
   "execution_count": 172,
   "id": "9c1ef04e-3cba-435a-a7db-f4a6531c2a31",
   "metadata": {},
   "outputs": [
    {
     "data": {
      "text/plain": [
       "'gediz niversitesi genlik ve spor kulb known as orkide gediz niversitesi for sponsorship reasons is a turkish professional basketball club based in izmir which plays turkish basketball league tbl the team was founded by gediz university in their home arena is gediz niversitesi sports hall with a capacity of seats the team sponsored by orkide which is an liquid oil company in turkey'"
      ]
     },
     "execution_count": 172,
     "metadata": {},
     "output_type": "execute_result"
    }
   ],
   "source": [
    "test_df.text.iloc[1]"
   ]
  },
  {
   "cell_type": "code",
   "execution_count": 137,
   "id": "905bcf83-a9b7-4d38-a40f-e72205693eb9",
   "metadata": {},
   "outputs": [],
   "source": [
    "y = train_label[0]"
   ]
  },
  {
   "cell_type": "code",
   "execution_count": 138,
   "id": "428f4ffb-c012-4523-8d5d-9aad4d9786cf",
   "metadata": {},
   "outputs": [
    {
     "data": {
      "text/plain": [
       "(array([0, 0, 0, 0, 0, 0, 0, 0, 0, 0, 0, 0, 0, 0, 0, 0, 0, 0, 0, 0, 0, 0,\n",
       "        0, 0, 1, 0, 0, 0, 0, 0, 0, 0, 0, 0, 0, 0, 0, 0, 0, 0, 0, 0, 0, 0,\n",
       "        0, 0, 0, 0, 0, 0, 0, 0, 0, 0, 0, 0, 0, 0, 0, 0, 0, 0, 0, 0, 0, 0,\n",
       "        0, 0, 0, 1, 0, 0, 0, 0, 0, 0, 0, 0, 0]),\n",
       " (79,))"
      ]
     },
     "execution_count": 138,
     "metadata": {},
     "output_type": "execute_result"
    }
   ],
   "source": [
    "y, y.shape"
   ]
  },
  {
   "cell_type": "code",
   "execution_count": 143,
   "id": "8391e19a-1099-4b6f-9d82-ac91540ef8f9",
   "metadata": {},
   "outputs": [
    {
     "data": {
      "text/plain": [
       "array([[0, 0, 0, 0, 0, 0, 0, 0, 0, 0, 0, 0, 0, 0, 0, 0, 0, 0, 0, 0, 0, 0,\n",
       "        0, 0, 1, 0, 0, 0, 0, 0, 0, 0, 0, 0, 0, 0, 0, 0, 0, 0, 0, 0, 0, 0,\n",
       "        0, 0, 0, 0, 0, 0, 0, 0, 0, 0, 0, 0, 0, 0, 0, 0, 0, 0, 0, 0, 0, 0,\n",
       "        0, 0, 0, 1, 0, 0, 0, 0, 0, 0, 0, 0, 0]])"
      ]
     },
     "execution_count": 143,
     "metadata": {},
     "output_type": "execute_result"
    }
   ],
   "source": [
    "np.expand_dims(y, axis=0)"
   ]
  },
  {
   "cell_type": "code",
   "execution_count": 139,
   "id": "6f5a107d-60f7-49fd-a881-e95ea8bbd6e3",
   "metadata": {},
   "outputs": [
    {
     "data": {
      "text/plain": [
       "(array(['Actor', 'Agent', 'AmusementParkAttraction', 'Animal', 'Artist',\n",
       "        'Athlete', 'BodyOfWater', 'Boxer', 'BritishRoyalty', 'Broadcaster',\n",
       "        'Building', 'Cartoon', 'CelestialBody', 'Cleric',\n",
       "        'ClericalAdministrativeRegion', 'Coach', 'Comic',\n",
       "        'ComicsCharacter', 'Company', 'Database', 'Device',\n",
       "        'EducationalInstitution', 'Engine', 'Eukaryote', 'Event',\n",
       "        'FictionalCharacter', 'FloweringPlant', 'FootballLeagueSeason',\n",
       "        'Genre', 'GridironFootballPlayer', 'Group', 'Horse',\n",
       "        'Infrastructure', 'LegalCase', 'MotorcycleRider', 'MusicalArtist',\n",
       "        'MusicalWork', 'NaturalEvent', 'NaturalPlace', 'Olympics',\n",
       "        'Organisation', 'OrganisationMember', 'PeriodicalLiterature',\n",
       "        'Person', 'Place', 'Plant', 'Politician', 'Presenter', 'Race',\n",
       "        'RaceTrack', 'RacingDriver', 'RouteOfTransportation', 'Satellite',\n",
       "        'Scientist', 'Settlement', 'SocietalEvent', 'Software', 'Song',\n",
       "        'Species', 'SportFacility', 'SportsEvent', 'SportsLeague',\n",
       "        'SportsManager', 'SportsSeason', 'SportsTeam', 'SportsTeamSeason',\n",
       "        'Station', 'Stream', 'TopicalConcept', 'Tournament', 'Tower',\n",
       "        'UnitOfWork', 'Venue', 'VolleyballPlayer', 'WinterSportPlayer',\n",
       "        'Work', 'Wrestler', 'Writer', 'WrittenWork'], dtype=object),\n",
       " 79)"
      ]
     },
     "execution_count": 139,
     "metadata": {},
     "output_type": "execute_result"
    }
   ],
   "source": [
    "lb.classes_, len(lb.classes_)"
   ]
  },
  {
   "cell_type": "code",
   "execution_count": 144,
   "id": "aacb883b-a04b-46d8-88c6-0688bc678ae5",
   "metadata": {},
   "outputs": [
    {
     "data": {
      "text/plain": [
       "[('Event', 'Tournament')]"
      ]
     },
     "execution_count": 144,
     "metadata": {},
     "output_type": "execute_result"
    }
   ],
   "source": [
    "lb.inverse_transform(np.expand_dims(y, axis=0))"
   ]
  },
  {
   "cell_type": "markdown",
   "id": "325df96f-11ec-4337-9a1b-75c116564972",
   "metadata": {},
   "source": [
    "## Create a model"
   ]
  },
  {
   "cell_type": "code",
   "execution_count": 147,
   "id": "b8004926-1cb0-4d15-b590-147e879f47c9",
   "metadata": {},
   "outputs": [],
   "source": [
    "# Set random seed\n",
    "tf.random.set_seed(42)\n",
    "\n",
    "# Set inputs\n",
    "inputs = layers.Input(shape=(1), dtype=tf.string)\n",
    "\n",
    "# Set text vectorization\n",
    "text_vector = layers.TextVectorization(max_tokens=100000, \n",
    "                                       output_sequence_length=215)\n",
    "\n",
    "text_vector.adapt(train_text)\n",
    "x = text_vector(inputs)\n",
    "\n",
    "# Set embeddings\n",
    "embeddings = layers.Embedding(input_dim=100000,\n",
    "                              input_length=215,\n",
    "                              output_dim=32)\n",
    "\n",
    "x = embeddings(x)\n",
    "\n",
    "# Create layers\n",
    "x = layers.Conv1D(filters=64, kernel_size=2, padding='valid', activation='relu')(x)\n",
    "x = layers.GlobalMaxPool1D()(x)\n",
    "outputs = layers.Dense(79, activation='sigmoid')(x)\n",
    "\n",
    "# Pass the inputs and outputs to model\n",
    "model_1 = tf.keras.Model(inputs, outputs)"
   ]
  },
  {
   "cell_type": "code",
   "execution_count": 148,
   "id": "108bccec-4519-4c5a-9011-428e6946ef8e",
   "metadata": {},
   "outputs": [
    {
     "name": "stdout",
     "output_type": "stream",
     "text": [
      "Model: \"model\"\n",
      "_________________________________________________________________\n",
      " Layer (type)                Output Shape              Param #   \n",
      "=================================================================\n",
      " input_1 (InputLayer)        [(None, 1)]               0         \n",
      "                                                                 \n",
      " text_vectorization_2 (TextV  (None, 215)              0         \n",
      " ectorization)                                                   \n",
      "                                                                 \n",
      " embedding (Embedding)       (None, 215, 32)           3200000   \n",
      "                                                                 \n",
      " conv1d (Conv1D)             (None, 214, 64)           4160      \n",
      "                                                                 \n",
      " global_max_pooling1d (Globa  (None, 64)               0         \n",
      " lMaxPooling1D)                                                  \n",
      "                                                                 \n",
      " dense (Dense)               (None, 79)                5135      \n",
      "                                                                 \n",
      "=================================================================\n",
      "Total params: 3,209,295\n",
      "Trainable params: 3,209,295\n",
      "Non-trainable params: 0\n",
      "_________________________________________________________________\n"
     ]
    }
   ],
   "source": [
    "model_1.summary()"
   ]
  },
  {
   "cell_type": "code",
   "execution_count": 149,
   "id": "ed813404-edb2-490c-8f21-eb3be03e90a5",
   "metadata": {},
   "outputs": [],
   "source": [
    "model_1.compile(optimizer=Adam(),\n",
    "                loss=BinaryCrossentropy(),\n",
    "                metrics=['accuracy'])"
   ]
  },
  {
   "cell_type": "code",
   "execution_count": 150,
   "id": "f856a49e-806d-4c8f-b861-b0257d1f0e59",
   "metadata": {},
   "outputs": [
    {
     "name": "stdout",
     "output_type": "stream",
     "text": [
      "Epoch 1/5\n",
      "1520/1520 [==============================] - 33s 15ms/step - loss: 0.0824 - accuracy: 0.5668 - val_loss: 0.0415 - val_accuracy: 0.6413\n",
      "Epoch 2/5\n",
      "1520/1520 [==============================] - 19s 13ms/step - loss: 0.0290 - accuracy: 0.6606 - val_loss: 0.0224 - val_accuracy: 0.6489\n",
      "Epoch 3/5\n",
      "1520/1520 [==============================] - 19s 13ms/step - loss: 0.0170 - accuracy: 0.6703 - val_loss: 0.0170 - val_accuracy: 0.6709\n",
      "Epoch 4/5\n",
      "1520/1520 [==============================] - 22s 14ms/step - loss: 0.0119 - accuracy: 0.6727 - val_loss: 0.0149 - val_accuracy: 0.6553\n",
      "Epoch 5/5\n",
      "1520/1520 [==============================] - 22s 14ms/step - loss: 0.0089 - accuracy: 0.6726 - val_loss: 0.0137 - val_accuracy: 0.6597\n"
     ]
    },
    {
     "data": {
      "text/plain": [
       "<keras.callbacks.History at 0x1d101795820>"
      ]
     },
     "execution_count": 150,
     "metadata": {},
     "output_type": "execute_result"
    }
   ],
   "source": [
    "model_1.fit(train_text, train_label,\n",
    "            validation_data=(test_text, test_label),\n",
    "            epochs=5)"
   ]
  },
  {
   "cell_type": "code",
   "execution_count": 173,
   "id": "7ec656f4-10c7-47a8-83d4-71c74ad22fb1",
   "metadata": {},
   "outputs": [],
   "source": [
    "text = 'gediz niversitesi genlik ve spor kulb known as orkide gediz niversitesi for sponsorship reasons is a turkish professional basketball club based in izmir which plays turkish basketball league tbl the team was founded by gediz university in their home arena is gediz niversitesi sports hall with a capacity of seats the team sponsored by orkide which is an liquid oil company in turkey'\n",
    "pred = np.round(model_1.predict(np.expand_dims(text, axis=0)))"
   ]
  },
  {
   "cell_type": "code",
   "execution_count": 174,
   "id": "7409e9a4-7028-468a-a3fb-dafd8a1e5d51",
   "metadata": {},
   "outputs": [
    {
     "data": {
      "text/plain": [
       "[('Agent', 'SportsTeam')]"
      ]
     },
     "execution_count": 174,
     "metadata": {},
     "output_type": "execute_result"
    }
   ],
   "source": [
    "lb.inverse_transform(pred)"
   ]
  },
  {
   "cell_type": "code",
   "execution_count": null,
   "id": "2e39c765-3ecb-4954-92b0-3f7743511b2a",
   "metadata": {},
   "outputs": [],
   "source": []
  }
 ],
 "metadata": {
  "kernelspec": {
   "display_name": "my_env",
   "language": "python",
   "name": "my_env"
  },
  "language_info": {
   "codemirror_mode": {
    "name": "ipython",
    "version": 3
   },
   "file_extension": ".py",
   "mimetype": "text/x-python",
   "name": "python",
   "nbconvert_exporter": "python",
   "pygments_lexer": "ipython3",
   "version": "3.9.7"
  }
 },
 "nbformat": 4,
 "nbformat_minor": 5
}
